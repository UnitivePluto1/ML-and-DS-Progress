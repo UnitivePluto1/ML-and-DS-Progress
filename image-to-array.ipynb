{
 "cells": [
  {
   "cell_type": "code",
   "execution_count": 1,
   "id": "984fa4c2-ed13-49e5-999a-cef6fc80b1dc",
   "metadata": {},
   "outputs": [],
   "source": [
    "import pandas as pd"
   ]
  },
  {
   "cell_type": "code",
   "execution_count": 2,
   "id": "dc79ba7d-5d05-4bfa-a572-d73882436650",
   "metadata": {},
   "outputs": [],
   "source": [
    "import matplotlib.pyplot as plt"
   ]
  },
  {
   "cell_type": "code",
   "execution_count": 3,
   "id": "aebc8405-16e4-4183-8ad5-d2f44ee28a97",
   "metadata": {},
   "outputs": [],
   "source": [
    "import numpy as np"
   ]
  },
  {
   "cell_type": "markdown",
   "id": "952a08fd-37b7-4463-8a74-5ee94ab7a68f",
   "metadata": {},
   "source": [
    "<img src=\"Images/panda.png\"/>"
   ]
  },
  {
   "cell_type": "code",
   "execution_count": 7,
   "id": "c697ec19-d0ea-487f-aae3-bc9711a01c59",
   "metadata": {},
   "outputs": [],
   "source": [
    "#Turning this to a numpy array\n",
    "from matplotlib.image import imread as im"
   ]
  },
  {
   "cell_type": "code",
   "execution_count": 10,
   "id": "6d08a793-7f77-4f71-9c2e-841ab34a98ed",
   "metadata": {},
   "outputs": [],
   "source": [
    "panda = im(\"Images/panda.png\")"
   ]
  },
  {
   "cell_type": "code",
   "execution_count": 11,
   "id": "d47e6d58-fcda-4ea0-b1be-ec32ae277d09",
   "metadata": {},
   "outputs": [
    {
     "data": {
      "text/plain": [
       "numpy.ndarray"
      ]
     },
     "execution_count": 11,
     "metadata": {},
     "output_type": "execute_result"
    }
   ],
   "source": [
    "type(panda)"
   ]
  },
  {
   "cell_type": "code",
   "execution_count": 12,
   "id": "4d5bc12f-a31c-453b-97eb-51574cd8359e",
   "metadata": {},
   "outputs": [
    {
     "name": "stdout",
     "output_type": "stream",
     "text": [
      "[[[0.05490196 0.10588235 0.06666667]\n",
      "  [0.05490196 0.10588235 0.06666667]\n",
      "  [0.05490196 0.10588235 0.06666667]\n",
      "  ...\n",
      "  [0.16470589 0.12941177 0.09411765]\n",
      "  [0.16470589 0.12941177 0.09411765]\n",
      "  [0.16470589 0.12941177 0.09411765]]\n",
      "\n",
      " [[0.05490196 0.10588235 0.06666667]\n",
      "  [0.05490196 0.10588235 0.06666667]\n",
      "  [0.05490196 0.10588235 0.06666667]\n",
      "  ...\n",
      "  [0.16470589 0.12941177 0.09411765]\n",
      "  [0.16470589 0.12941177 0.09411765]\n",
      "  [0.16470589 0.12941177 0.09411765]]\n",
      "\n",
      " [[0.05490196 0.10588235 0.06666667]\n",
      "  [0.05490196 0.10588235 0.06666667]\n",
      "  [0.05490196 0.10588235 0.06666667]\n",
      "  ...\n",
      "  [0.16470589 0.12941177 0.09411765]\n",
      "  [0.16470589 0.12941177 0.09411765]\n",
      "  [0.16470589 0.12941177 0.09411765]]\n",
      "\n",
      " ...\n",
      "\n",
      " [[0.13333334 0.07450981 0.05490196]\n",
      "  [0.12156863 0.0627451  0.04313726]\n",
      "  [0.10980392 0.05098039 0.03137255]\n",
      "  ...\n",
      "  [0.02745098 0.02745098 0.03529412]\n",
      "  [0.02745098 0.02745098 0.03529412]\n",
      "  [0.02745098 0.02745098 0.03529412]]\n",
      "\n",
      " [[0.13333334 0.07450981 0.05490196]\n",
      "  [0.12156863 0.0627451  0.04313726]\n",
      "  [0.12156863 0.0627451  0.04313726]\n",
      "  ...\n",
      "  [0.02352941 0.02352941 0.03137255]\n",
      "  [0.02352941 0.02352941 0.03137255]\n",
      "  [0.02352941 0.02352941 0.03137255]]\n",
      "\n",
      " [[0.13333334 0.07450981 0.05490196]\n",
      "  [0.12156863 0.0627451  0.04313726]\n",
      "  [0.12156863 0.0627451  0.04313726]\n",
      "  ...\n",
      "  [0.02352941 0.02352941 0.03137255]\n",
      "  [0.02352941 0.02352941 0.03137255]\n",
      "  [0.02352941 0.02352941 0.03137255]]]\n"
     ]
    }
   ],
   "source": [
    "print(panda)"
   ]
  },
  {
   "cell_type": "code",
   "execution_count": null,
   "id": "a23b9e87-e485-4e63-80da-3b8af99ce2a8",
   "metadata": {},
   "outputs": [],
   "source": []
  }
 ],
 "metadata": {
  "kernelspec": {
   "display_name": "Python 3 (ipykernel)",
   "language": "python",
   "name": "python3"
  },
  "language_info": {
   "codemirror_mode": {
    "name": "ipython",
    "version": 3
   },
   "file_extension": ".py",
   "mimetype": "text/x-python",
   "name": "python",
   "nbconvert_exporter": "python",
   "pygments_lexer": "ipython3",
   "version": "3.12.8"
  }
 },
 "nbformat": 4,
 "nbformat_minor": 5
}
