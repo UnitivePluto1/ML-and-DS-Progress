{
 "cells": [
  {
   "cell_type": "markdown",
   "id": "ea8835e4-7a2a-47cc-a299-2a8e6b754ada",
   "metadata": {},
   "source": [
    "# Numpy Learning"
   ]
  },
  {
   "cell_type": "code",
   "execution_count": 1,
   "id": "a6715cc5-bf4d-4b41-b205-bc24144ff853",
   "metadata": {},
   "outputs": [],
   "source": [
    "import numpy as np"
   ]
  },
  {
   "cell_type": "code",
   "execution_count": 2,
   "id": "cc1cd388-f2e6-407d-87ea-65cbca82b928",
   "metadata": {},
   "outputs": [],
   "source": [
    "#for complexity\n",
    "import pandas as pd"
   ]
  },
  {
   "cell_type": "markdown",
   "id": "d3bfb36c-9d1e-4f03-a9bf-7b58926d8ef7",
   "metadata": {},
   "source": [
    "## Datatypes and attributes"
   ]
  },
  {
   "cell_type": "code",
   "execution_count": 3,
   "id": "b23cbce8-3cb8-48f2-9406-d0360a00f371",
   "metadata": {},
   "outputs": [
    {
     "data": {
      "text/plain": [
       "array([1, 2, 3])"
      ]
     },
     "execution_count": 3,
     "metadata": {},
     "output_type": "execute_result"
    }
   ],
   "source": [
    "a1 = np.array([1,2,3])\n",
    "a1"
   ]
  },
  {
   "cell_type": "code",
   "execution_count": 4,
   "id": "84abf880-3fdf-4567-919a-a2ca02278a66",
   "metadata": {},
   "outputs": [
    {
     "data": {
      "text/plain": [
       "numpy.ndarray"
      ]
     },
     "execution_count": 4,
     "metadata": {},
     "output_type": "execute_result"
    }
   ],
   "source": [
    "type(a1)"
   ]
  },
  {
   "cell_type": "code",
   "execution_count": 5,
   "id": "be07c906-0d02-4d48-bef7-a7c91652b0e5",
   "metadata": {},
   "outputs": [],
   "source": [
    "a2 = np.array([[2.3,4.0,6.5],\n",
    "             [3.8,5.0,7.5]])\n",
    "\n",
    "a3 = np.array([[[5,6,7],\n",
    "              [8,9,10]],\n",
    "             [[11,12,13],\n",
    "              [14,15,16]],\n",
    "              [[1,2,3],\n",
    "              [3,4,5]]])"
   ]
  },
  {
   "cell_type": "code",
   "execution_count": 6,
   "id": "6b8e3e19-9f23-493d-9809-a787fd2e17b9",
   "metadata": {},
   "outputs": [
    {
     "data": {
      "text/plain": [
       "array([[2.3, 4. , 6.5],\n",
       "       [3.8, 5. , 7.5]])"
      ]
     },
     "execution_count": 6,
     "metadata": {},
     "output_type": "execute_result"
    }
   ],
   "source": [
    "a2"
   ]
  },
  {
   "cell_type": "code",
   "execution_count": 7,
   "id": "77639ff8-fc80-4c22-8d23-54f42473ae94",
   "metadata": {},
   "outputs": [
    {
     "data": {
      "text/plain": [
       "array([[[ 5,  6,  7],\n",
       "        [ 8,  9, 10]],\n",
       "\n",
       "       [[11, 12, 13],\n",
       "        [14, 15, 16]],\n",
       "\n",
       "       [[ 1,  2,  3],\n",
       "        [ 3,  4,  5]]])"
      ]
     },
     "execution_count": 7,
     "metadata": {},
     "output_type": "execute_result"
    }
   ],
   "source": [
    "a3"
   ]
  },
  {
   "cell_type": "code",
   "execution_count": 8,
   "id": "410ab107-e4c7-4fa5-a3d7-0f5c56481eca",
   "metadata": {},
   "outputs": [
    {
     "data": {
      "text/plain": [
       "(3,)"
      ]
     },
     "execution_count": 8,
     "metadata": {},
     "output_type": "execute_result"
    }
   ],
   "source": [
    "a1.shape"
   ]
  },
  {
   "cell_type": "code",
   "execution_count": 9,
   "id": "55481f66-2c68-41c7-9d3f-a04989c5cde1",
   "metadata": {},
   "outputs": [
    {
     "data": {
      "text/plain": [
       "(2, 3)"
      ]
     },
     "execution_count": 9,
     "metadata": {},
     "output_type": "execute_result"
    }
   ],
   "source": [
    "a2.shape"
   ]
  },
  {
   "cell_type": "code",
   "execution_count": 10,
   "id": "47c2b4ad-f30b-45ce-ab38-a4492ca3a2b3",
   "metadata": {},
   "outputs": [
    {
     "data": {
      "text/plain": [
       "(3, 2, 3)"
      ]
     },
     "execution_count": 10,
     "metadata": {},
     "output_type": "execute_result"
    }
   ],
   "source": [
    "a3.shape"
   ]
  },
  {
   "cell_type": "code",
   "execution_count": 11,
   "id": "284fd089-17ca-4949-803a-5e47d03bcfdf",
   "metadata": {},
   "outputs": [
    {
     "data": {
      "text/plain": [
       "(1, 2, 3)"
      ]
     },
     "execution_count": 11,
     "metadata": {},
     "output_type": "execute_result"
    }
   ],
   "source": [
    "a1.ndim,a2.ndim,a3.ndim\n"
   ]
  },
  {
   "cell_type": "code",
   "execution_count": 12,
   "id": "89b10c94-294a-4e42-a07e-6bcadea234cd",
   "metadata": {},
   "outputs": [],
   "source": [
    "df = pd.DataFrame(a2)"
   ]
  },
  {
   "cell_type": "code",
   "execution_count": 13,
   "id": "545f2e5b-5e05-4cb6-8ef6-8ac04cfeb090",
   "metadata": {},
   "outputs": [
    {
     "data": {
      "text/html": [
       "<div>\n",
       "<style scoped>\n",
       "    .dataframe tbody tr th:only-of-type {\n",
       "        vertical-align: middle;\n",
       "    }\n",
       "\n",
       "    .dataframe tbody tr th {\n",
       "        vertical-align: top;\n",
       "    }\n",
       "\n",
       "    .dataframe thead th {\n",
       "        text-align: right;\n",
       "    }\n",
       "</style>\n",
       "<table border=\"1\" class=\"dataframe\">\n",
       "  <thead>\n",
       "    <tr style=\"text-align: right;\">\n",
       "      <th></th>\n",
       "      <th>0</th>\n",
       "      <th>1</th>\n",
       "      <th>2</th>\n",
       "    </tr>\n",
       "  </thead>\n",
       "  <tbody>\n",
       "    <tr>\n",
       "      <th>0</th>\n",
       "      <td>2.3</td>\n",
       "      <td>4.0</td>\n",
       "      <td>6.5</td>\n",
       "    </tr>\n",
       "    <tr>\n",
       "      <th>1</th>\n",
       "      <td>3.8</td>\n",
       "      <td>5.0</td>\n",
       "      <td>7.5</td>\n",
       "    </tr>\n",
       "  </tbody>\n",
       "</table>\n",
       "</div>"
      ],
      "text/plain": [
       "     0    1    2\n",
       "0  2.3  4.0  6.5\n",
       "1  3.8  5.0  7.5"
      ]
     },
     "execution_count": 13,
     "metadata": {},
     "output_type": "execute_result"
    }
   ],
   "source": [
    "df"
   ]
  },
  {
   "cell_type": "code",
   "execution_count": 14,
   "id": "ef2ed4d9-0de7-40ae-bbd4-24486364e244",
   "metadata": {},
   "outputs": [],
   "source": [
    "test = np.ones((3,2,4), 'int64')"
   ]
  },
  {
   "cell_type": "code",
   "execution_count": 15,
   "id": "c0efcf50-312f-47ea-a481-2ef7b6741faf",
   "metadata": {},
   "outputs": [
    {
     "data": {
      "text/plain": [
       "array([[[1, 1, 1, 1],\n",
       "        [1, 1, 1, 1]],\n",
       "\n",
       "       [[1, 1, 1, 1],\n",
       "        [1, 1, 1, 1]],\n",
       "\n",
       "       [[1, 1, 1, 1],\n",
       "        [1, 1, 1, 1]]])"
      ]
     },
     "execution_count": 15,
     "metadata": {},
     "output_type": "execute_result"
    }
   ],
   "source": [
    "test"
   ]
  },
  {
   "cell_type": "code",
   "execution_count": 16,
   "id": "cb339797-31b8-489b-9a92-62acf86c2cbe",
   "metadata": {},
   "outputs": [
    {
     "data": {
      "text/plain": [
       "array([[7, 5, 6],\n",
       "       [2, 9, 3],\n",
       "       [5, 7, 9]], dtype=int32)"
      ]
     },
     "execution_count": 16,
     "metadata": {},
     "output_type": "execute_result"
    }
   ],
   "source": [
    "np.random.seed(1)\n",
    "#trying = np.zeroes()\n",
    "#trying = np.arange(0,3)\n",
    "trying = np.random.randint(2,10,size = (3,3))\n",
    "#trying = np.random.random((2,3))\n",
    "#trying = np.random.rand(2,3)\n",
    "trying"
   ]
  },
  {
   "cell_type": "code",
   "execution_count": 17,
   "id": "c86dd85b-f911-43cd-97b4-bd5cbf86cc1b",
   "metadata": {},
   "outputs": [
    {
     "data": {
      "text/plain": [
       "array([2, 3, 5, 6, 7, 9], dtype=int32)"
      ]
     },
     "execution_count": 17,
     "metadata": {},
     "output_type": "execute_result"
    }
   ],
   "source": [
    "np.unique(trying)"
   ]
  },
  {
   "cell_type": "code",
   "execution_count": 18,
   "id": "bef8d97b-98f2-4d17-becf-aead4b8256b4",
   "metadata": {},
   "outputs": [
    {
     "data": {
      "text/plain": [
       "array([[[ 5]],\n",
       "\n",
       "       [[11]],\n",
       "\n",
       "       [[ 1]]])"
      ]
     },
     "execution_count": 18,
     "metadata": {},
     "output_type": "execute_result"
    }
   ],
   "source": [
    "a3[:3, :1, :1]"
   ]
  },
  {
   "cell_type": "code",
   "execution_count": 19,
   "id": "a652d880-bde2-40cc-8fee-dca2eec6c1cf",
   "metadata": {},
   "outputs": [
    {
     "data": {
      "text/plain": [
       "array([[[ 5,  6,  7]],\n",
       "\n",
       "       [[11, 12, 13]],\n",
       "\n",
       "       [[ 1,  2,  3]]])"
      ]
     },
     "execution_count": 19,
     "metadata": {},
     "output_type": "execute_result"
    }
   ],
   "source": [
    "a3[:,:1,:3]"
   ]
  },
  {
   "cell_type": "markdown",
   "id": "626ab8c1-0f56-4599-b234-74f31ec0f9dd",
   "metadata": {},
   "source": [
    "## Manipulating Data"
   ]
  },
  {
   "cell_type": "markdown",
   "id": "825302ef-01ed-451d-8afb-b3cfd0be5fc1",
   "metadata": {},
   "source": [
    "### Arithmetic"
   ]
  },
  {
   "cell_type": "code",
   "execution_count": 20,
   "id": "0c94f9f7-3864-48fc-b289-8dba046757af",
   "metadata": {},
   "outputs": [
    {
     "data": {
      "text/plain": [
       "array([2, 3, 4])"
      ]
     },
     "execution_count": 20,
     "metadata": {},
     "output_type": "execute_result"
    }
   ],
   "source": [
    "a1 + np.ones(3, 'int64')"
   ]
  },
  {
   "cell_type": "code",
   "execution_count": 21,
   "id": "f7ebdbd2-f08a-4d05-82ca-988927cca92c",
   "metadata": {},
   "outputs": [],
   "source": [
    "# useless basic math"
   ]
  },
  {
   "cell_type": "markdown",
   "id": "f37e14f6-41f8-470f-a681-a4b43271c3e8",
   "metadata": {},
   "source": [
    "### Aggregation"
   ]
  },
  {
   "cell_type": "code",
   "execution_count": 22,
   "id": "0d9a5d68-285e-4afe-be07-e59b173c45ba",
   "metadata": {},
   "outputs": [],
   "source": [
    "List = [1, 2, 3]"
   ]
  },
  {
   "cell_type": "code",
   "execution_count": 23,
   "id": "b4b732b9-8aa8-4893-bc9d-f3cfb32f43dd",
   "metadata": {},
   "outputs": [
    {
     "data": {
      "text/plain": [
       "6"
      ]
     },
     "execution_count": 23,
     "metadata": {},
     "output_type": "execute_result"
    }
   ],
   "source": [
    "sum(List)"
   ]
  },
  {
   "cell_type": "code",
   "execution_count": 24,
   "id": "8380a7b9-1d10-4b7c-a690-2f9c654644e3",
   "metadata": {},
   "outputs": [
    {
     "data": {
      "text/plain": [
       "np.int64(6)"
      ]
     },
     "execution_count": 24,
     "metadata": {},
     "output_type": "execute_result"
    }
   ],
   "source": [
    "np.sum(List)"
   ]
  },
  {
   "cell_type": "markdown",
   "id": "ddf12e22-d83d-4b91-b41d-749219ed9078",
   "metadata": {},
   "source": [
    "(`np.sum()`) on numpy's datatypes and (`sum()`) on python's datatypes"
   ]
  },
  {
   "cell_type": "code",
   "execution_count": 25,
   "id": "b6a9f300-39e0-4bea-a9eb-82c4c5cc2eb7",
   "metadata": {},
   "outputs": [],
   "source": [
    "mass = np.random.random(100000)"
   ]
  },
  {
   "cell_type": "code",
   "execution_count": 47,
   "id": "2284f70e-f42d-43ba-b46f-5b6dae699bbf",
   "metadata": {},
   "outputs": [
    {
     "data": {
      "text/plain": [
       "array([0.23608898, 0.39658073, 0.38791074, 0.66974604, 0.93553907,\n",
       "       0.84631092, 0.31327352, 0.52454816, 0.44345289, 0.22957721])"
      ]
     },
     "execution_count": 47,
     "metadata": {},
     "output_type": "execute_result"
    }
   ],
   "source": [
    "mass[:10]"
   ]
  },
  {
   "cell_type": "code",
   "execution_count": 45,
   "id": "033ae051-36e0-4dab-a96c-ec3894ca84ac",
   "metadata": {},
   "outputs": [
    {
     "name": "stdout",
     "output_type": "stream",
     "text": [
      "9.21 ms ± 215 μs per loop (mean ± std. dev. of 7 runs, 100 loops each)\n"
     ]
    }
   ],
   "source": [
    "%timeit sum(mass)"
   ]
  },
  {
   "cell_type": "code",
   "execution_count": 46,
   "id": "edba8b55-3a45-457a-8c1c-d7f71192fc68",
   "metadata": {},
   "outputs": [
    {
     "name": "stdout",
     "output_type": "stream",
     "text": [
      "31.6 μs ± 801 ns per loop (mean ± std. dev. of 7 runs, 10,000 loops each)\n"
     ]
    }
   ],
   "source": [
    "%timeit np.sum(mass)"
   ]
  },
  {
   "cell_type": "code",
   "execution_count": 29,
   "id": "9d5ccefa-1d2b-47cd-bd36-716e56fedf0b",
   "metadata": {},
   "outputs": [],
   "source": [
    "#insane time difference GAHDAMN"
   ]
  },
  {
   "cell_type": "code",
   "execution_count": 30,
   "id": "bbf5904b-3544-4a9d-8b54-c2b15853fcf9",
   "metadata": {},
   "outputs": [
    {
     "data": {
      "text/plain": [
       "array([[2.3, 4. , 6.5],\n",
       "       [3.8, 5. , 7.5]])"
      ]
     },
     "execution_count": 30,
     "metadata": {},
     "output_type": "execute_result"
    }
   ],
   "source": [
    "a2"
   ]
  },
  {
   "cell_type": "code",
   "execution_count": 31,
   "id": "82f7f1a0-c829-41d5-b056-87ab8c392388",
   "metadata": {},
   "outputs": [],
   "source": [
    "#np.mean()\n",
    "#np.max()\n",
    "#np.min()\n",
    "#np.std()\n",
    "#np.var()"
   ]
  },
  {
   "cell_type": "code",
   "execution_count": 32,
   "id": "2b88fd0f-a853-4978-b6f3-a4c8d8861786",
   "metadata": {},
   "outputs": [],
   "source": [
    "#now we have fun"
   ]
  },
  {
   "cell_type": "code",
   "execution_count": 33,
   "id": "329acb47-11b0-4457-965d-66d189a0e8d6",
   "metadata": {},
   "outputs": [],
   "source": [
    "high = np.array([200,10000,100,35,29969,3])"
   ]
  },
  {
   "cell_type": "code",
   "execution_count": 34,
   "id": "72731685-47e8-4824-b47e-43e4d5216520",
   "metadata": {},
   "outputs": [],
   "source": [
    "low = np.array([1,2,3,4,5,6])"
   ]
  },
  {
   "cell_type": "code",
   "execution_count": 35,
   "id": "89774dc0-9cb6-44f4-b8b4-c3c10bc20841",
   "metadata": {},
   "outputs": [
    {
     "data": {
      "text/plain": [
       "(np.float64(6717.833333333333), np.float64(3.5))"
      ]
     },
     "execution_count": 35,
     "metadata": {},
     "output_type": "execute_result"
    }
   ],
   "source": [
    "np.mean(high), np.mean(low)"
   ]
  },
  {
   "cell_type": "code",
   "execution_count": 36,
   "id": "e40a8638-bc50-4f52-b236-769583beecac",
   "metadata": {},
   "outputs": [
    {
     "data": {
      "text/plain": [
       "(np.float64(11010.725731707647), np.float64(1.707825127659933))"
      ]
     },
     "execution_count": 36,
     "metadata": {},
     "output_type": "execute_result"
    }
   ],
   "source": [
    "np.std(high), np.std(low)"
   ]
  },
  {
   "cell_type": "code",
   "execution_count": 37,
   "id": "af22f7c5-ce5d-4511-9188-c2ecf2347892",
   "metadata": {},
   "outputs": [
    {
     "data": {
      "text/plain": [
       "(np.float64(121236081.1388889), np.float64(2.9166666666666665))"
      ]
     },
     "execution_count": 37,
     "metadata": {},
     "output_type": "execute_result"
    }
   ],
   "source": [
    "np.var(high), np.var(low)"
   ]
  },
  {
   "cell_type": "markdown",
   "id": "4f465676-235d-44cb-924e-1b07ab9a124c",
   "metadata": {},
   "source": [
    "### Reshape & Transpose"
   ]
  },
  {
   "cell_type": "code",
   "execution_count": 38,
   "id": "a64e1147-9f18-4555-9b59-c4f2904fd72a",
   "metadata": {},
   "outputs": [
    {
     "data": {
      "text/plain": [
       "array([[2.3, 4. , 6.5],\n",
       "       [3.8, 5. , 7.5]])"
      ]
     },
     "execution_count": 38,
     "metadata": {},
     "output_type": "execute_result"
    }
   ],
   "source": [
    "a2"
   ]
  },
  {
   "cell_type": "code",
   "execution_count": 39,
   "id": "112834ec-cf03-4ee2-aaf1-9fbf7176a969",
   "metadata": {},
   "outputs": [],
   "source": [
    "a2_reshape = a2.reshape(3,2,1)"
   ]
  },
  {
   "cell_type": "code",
   "execution_count": 40,
   "id": "f1f4a836-7928-4dae-9dc6-cd7b3aa5ae96",
   "metadata": {},
   "outputs": [
    {
     "data": {
      "text/plain": [
       "array([[[2.3],\n",
       "        [4. ]],\n",
       "\n",
       "       [[6.5],\n",
       "        [3.8]],\n",
       "\n",
       "       [[5. ],\n",
       "        [7.5]]])"
      ]
     },
     "execution_count": 40,
     "metadata": {},
     "output_type": "execute_result"
    }
   ],
   "source": [
    "a2_reshape"
   ]
  },
  {
   "cell_type": "code",
   "execution_count": 41,
   "id": "c78b727d-0618-49bc-85b1-1f04cd79a295",
   "metadata": {},
   "outputs": [
    {
     "data": {
      "text/plain": [
       "array([[[ 5,  6,  7],\n",
       "        [ 8,  9, 10]],\n",
       "\n",
       "       [[11, 12, 13],\n",
       "        [14, 15, 16]],\n",
       "\n",
       "       [[ 1,  2,  3],\n",
       "        [ 3,  4,  5]]])"
      ]
     },
     "execution_count": 41,
     "metadata": {},
     "output_type": "execute_result"
    }
   ],
   "source": [
    "a3"
   ]
  },
  {
   "cell_type": "code",
   "execution_count": 42,
   "id": "8fe21a2d-b128-4dbf-9e4c-ae108ecaf2e2",
   "metadata": {},
   "outputs": [
    {
     "data": {
      "text/plain": [
       "array([[[11.5, 13.8, 16.1],\n",
       "        [32. , 36. , 40. ]],\n",
       "\n",
       "       [[71.5, 78. , 84.5],\n",
       "        [53.2, 57. , 60.8]],\n",
       "\n",
       "       [[ 5. , 10. , 15. ],\n",
       "        [22.5, 30. , 37.5]]])"
      ]
     },
     "execution_count": 42,
     "metadata": {},
     "output_type": "execute_result"
    }
   ],
   "source": [
    "a2_reshape*a3"
   ]
  },
  {
   "cell_type": "code",
   "execution_count": 43,
   "id": "51d3af72-fe76-4270-a5ea-23ac58068110",
   "metadata": {},
   "outputs": [
    {
     "data": {
      "text/plain": [
       "array([[2.3, 3.8],\n",
       "       [4. , 5. ],\n",
       "       [6.5, 7.5]])"
      ]
     },
     "execution_count": 43,
     "metadata": {},
     "output_type": "execute_result"
    }
   ],
   "source": [
    "a2.T"
   ]
  },
  {
   "cell_type": "code",
   "execution_count": 44,
   "id": "20fbddcd-a772-41e1-9b27-8b56edcfee5e",
   "metadata": {},
   "outputs": [
    {
     "data": {
      "text/plain": [
       "array([[2.3, 4. , 6.5],\n",
       "       [3.8, 5. , 7.5]])"
      ]
     },
     "execution_count": 44,
     "metadata": {},
     "output_type": "execute_result"
    }
   ],
   "source": [
    "a2"
   ]
  },
  {
   "cell_type": "code",
   "execution_count": 50,
   "id": "09400e55-1c04-4718-b31a-05c808f20d9e",
   "metadata": {},
   "outputs": [],
   "source": [
    "np.random.seed(1)\n",
    "\n",
    "mat1 = np.random.randint(10, size = (5,3))\n",
    "mat2 = np.random.randint(10, size = (5,3))"
   ]
  },
  {
   "cell_type": "code",
   "execution_count": 54,
   "id": "1859b3fe-1371-4a53-a2a4-b6364e235ca5",
   "metadata": {},
   "outputs": [
    {
     "data": {
      "text/plain": [
       "(array([[5, 8, 9],\n",
       "        [5, 0, 0],\n",
       "        [1, 7, 6],\n",
       "        [9, 2, 4],\n",
       "        [5, 2, 4]], dtype=int32),\n",
       " array([[2, 4, 7],\n",
       "        [7, 9, 1],\n",
       "        [7, 0, 6],\n",
       "        [9, 9, 7],\n",
       "        [6, 9, 1]], dtype=int32))"
      ]
     },
     "execution_count": 54,
     "metadata": {},
     "output_type": "execute_result"
    }
   ],
   "source": [
    "mat1 , mat2\n"
   ]
  },
  {
   "cell_type": "code",
   "execution_count": 55,
   "id": "983b47a8-a8bc-4b52-9628-6d71789b1c3b",
   "metadata": {},
   "outputs": [
    {
     "data": {
      "text/plain": [
       "array([[10, 32, 63],\n",
       "       [35,  0,  0],\n",
       "       [ 7,  0, 36],\n",
       "       [81, 18, 28],\n",
       "       [30, 18,  4]], dtype=int32)"
      ]
     },
     "execution_count": 55,
     "metadata": {},
     "output_type": "execute_result"
    }
   ],
   "source": [
    "mat1 * mat2"
   ]
  },
  {
   "cell_type": "code",
   "execution_count": 65,
   "id": "df70b8d0-be6d-4f5b-8ecd-5733b226bf23",
   "metadata": {},
   "outputs": [
    {
     "data": {
      "text/html": [
       "<div>\n",
       "<style scoped>\n",
       "    .dataframe tbody tr th:only-of-type {\n",
       "        vertical-align: middle;\n",
       "    }\n",
       "\n",
       "    .dataframe tbody tr th {\n",
       "        vertical-align: top;\n",
       "    }\n",
       "\n",
       "    .dataframe thead th {\n",
       "        text-align: right;\n",
       "    }\n",
       "</style>\n",
       "<table border=\"1\" class=\"dataframe\">\n",
       "  <thead>\n",
       "    <tr style=\"text-align: right;\">\n",
       "      <th></th>\n",
       "      <th>Nike</th>\n",
       "      <th>Adidas</th>\n",
       "      <th>Puma</th>\n",
       "    </tr>\n",
       "  </thead>\n",
       "  <tbody>\n",
       "    <tr>\n",
       "      <th>price</th>\n",
       "      <td>8</td>\n",
       "      <td>9</td>\n",
       "      <td>5</td>\n",
       "    </tr>\n",
       "  </tbody>\n",
       "</table>\n",
       "</div>"
      ],
      "text/plain": [
       "       Nike  Adidas  Puma\n",
       "price     8       9     5"
      ]
     },
     "execution_count": 65,
     "metadata": {},
     "output_type": "execute_result"
    }
   ],
   "source": [
    "np.random.seed(1)\n",
    "\n",
    "prices = np.random.randint(5,10, size = (1,3))\n",
    "prices_df = pd.DataFrame(prices, index = ['price'], columns = ['Nike', 'Adidas', 'Puma'])\n",
    "prices_df"
   ]
  },
  {
   "cell_type": "code",
   "execution_count": 70,
   "id": "e1c65f68-65f3-47b7-b291-7db049dbd494",
   "metadata": {},
   "outputs": [
    {
     "data": {
      "text/html": [
       "<div>\n",
       "<style scoped>\n",
       "    .dataframe tbody tr th:only-of-type {\n",
       "        vertical-align: middle;\n",
       "    }\n",
       "\n",
       "    .dataframe tbody tr th {\n",
       "        vertical-align: top;\n",
       "    }\n",
       "\n",
       "    .dataframe thead th {\n",
       "        text-align: right;\n",
       "    }\n",
       "</style>\n",
       "<table border=\"1\" class=\"dataframe\">\n",
       "  <thead>\n",
       "    <tr style=\"text-align: right;\">\n",
       "      <th></th>\n",
       "      <th>Nike</th>\n",
       "      <th>Adidas</th>\n",
       "      <th>Puma</th>\n",
       "    </tr>\n",
       "  </thead>\n",
       "  <tbody>\n",
       "    <tr>\n",
       "      <th>Mon</th>\n",
       "      <td>5</td>\n",
       "      <td>8</td>\n",
       "      <td>9</td>\n",
       "    </tr>\n",
       "    <tr>\n",
       "      <th>Tues</th>\n",
       "      <td>5</td>\n",
       "      <td>0</td>\n",
       "      <td>0</td>\n",
       "    </tr>\n",
       "    <tr>\n",
       "      <th>Wed</th>\n",
       "      <td>1</td>\n",
       "      <td>7</td>\n",
       "      <td>6</td>\n",
       "    </tr>\n",
       "    <tr>\n",
       "      <th>Thurs</th>\n",
       "      <td>9</td>\n",
       "      <td>2</td>\n",
       "      <td>4</td>\n",
       "    </tr>\n",
       "  </tbody>\n",
       "</table>\n",
       "</div>"
      ],
      "text/plain": [
       "       Nike  Adidas  Puma\n",
       "Mon       5       8     9\n",
       "Tues      5       0     0\n",
       "Wed       1       7     6\n",
       "Thurs     9       2     4"
      ]
     },
     "execution_count": 70,
     "metadata": {},
     "output_type": "execute_result"
    }
   ],
   "source": [
    "np.random.seed(1)\n",
    "sales = np.random.randint(10, size = (4,3))\n",
    "sales_df = pd.DataFrame(sales, index = ['Mon','Tues','Wed', 'Thurs'], columns = ['Nike','Adidas','Puma'])\n",
    "sales_df"
   ]
  },
  {
   "cell_type": "code",
   "execution_count": 80,
   "id": "8d7e58fd-f17c-4ae1-899a-c4e3f04d56d9",
   "metadata": {},
   "outputs": [
    {
     "data": {
      "text/plain": [
       "((4, 3), (3, 1))"
      ]
     },
     "execution_count": 80,
     "metadata": {},
     "output_type": "execute_result"
    }
   ],
   "source": [
    "sales_df.shape, prices_df.shape\n"
   ]
  },
  {
   "cell_type": "code",
   "execution_count": 78,
   "id": "09d8eedd-cfc1-4a54-8473-b90d949ae1ee",
   "metadata": {},
   "outputs": [],
   "source": [
    "prices_df = prices_df.T"
   ]
  },
  {
   "cell_type": "code",
   "execution_count": 79,
   "id": "4ba6573d-82c9-40ed-a3f9-7ce765ef86c6",
   "metadata": {},
   "outputs": [
    {
     "data": {
      "text/html": [
       "<div>\n",
       "<style scoped>\n",
       "    .dataframe tbody tr th:only-of-type {\n",
       "        vertical-align: middle;\n",
       "    }\n",
       "\n",
       "    .dataframe tbody tr th {\n",
       "        vertical-align: top;\n",
       "    }\n",
       "\n",
       "    .dataframe thead th {\n",
       "        text-align: right;\n",
       "    }\n",
       "</style>\n",
       "<table border=\"1\" class=\"dataframe\">\n",
       "  <thead>\n",
       "    <tr style=\"text-align: right;\">\n",
       "      <th></th>\n",
       "      <th>price</th>\n",
       "    </tr>\n",
       "  </thead>\n",
       "  <tbody>\n",
       "    <tr>\n",
       "      <th>Nike</th>\n",
       "      <td>8</td>\n",
       "    </tr>\n",
       "    <tr>\n",
       "      <th>Adidas</th>\n",
       "      <td>9</td>\n",
       "    </tr>\n",
       "    <tr>\n",
       "      <th>Puma</th>\n",
       "      <td>5</td>\n",
       "    </tr>\n",
       "  </tbody>\n",
       "</table>\n",
       "</div>"
      ],
      "text/plain": [
       "        price\n",
       "Nike        8\n",
       "Adidas      9\n",
       "Puma        5"
      ]
     },
     "execution_count": 79,
     "metadata": {},
     "output_type": "execute_result"
    }
   ],
   "source": [
    "prices_df"
   ]
  },
  {
   "cell_type": "code",
   "execution_count": 81,
   "id": "bb4e20a3-b424-473d-902a-337fbbe500bf",
   "metadata": {},
   "outputs": [
    {
     "data": {
      "text/plain": [
       "array([[157],\n",
       "       [ 40],\n",
       "       [101],\n",
       "       [110]], dtype=int32)"
      ]
     },
     "execution_count": 81,
     "metadata": {},
     "output_type": "execute_result"
    }
   ],
   "source": [
    "np.dot(sales_df, prices_df)"
   ]
  },
  {
   "cell_type": "code",
   "execution_count": null,
   "id": "317adf33-c38e-479b-958d-0cd406eeebf4",
   "metadata": {},
   "outputs": [],
   "source": []
  }
 ],
 "metadata": {
  "kernelspec": {
   "display_name": "Python 3 (ipykernel)",
   "language": "python",
   "name": "python3"
  },
  "language_info": {
   "codemirror_mode": {
    "name": "ipython",
    "version": 3
   },
   "file_extension": ".py",
   "mimetype": "text/x-python",
   "name": "python",
   "nbconvert_exporter": "python",
   "pygments_lexer": "ipython3",
   "version": "3.12.8"
  }
 },
 "nbformat": 4,
 "nbformat_minor": 5
}
