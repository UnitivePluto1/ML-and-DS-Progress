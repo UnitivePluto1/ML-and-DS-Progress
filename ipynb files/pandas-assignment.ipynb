{
 "cells": [
  {
   "cell_type": "markdown",
   "id": "84ada46d-15f9-4dd9-ac8c-c6a010b9d4e5",
   "metadata": {},
   "source": [
    "# Assignment Time\n"
   ]
  },
  {
   "cell_type": "markdown",
   "id": "aa24b84d-8dc1-4b7a-8e70-90a727062fd4",
   "metadata": {},
   "source": [
    "### Assignment Link : https://github.com/mrdbourke/zero-to-mastery-ml/blob/master/section-2-data-science-and-ml-tools/pandas-exercises.ipynb"
   ]
  },
  {
   "cell_type": "code",
   "execution_count": 1,
   "id": "41b27cd3-e515-446d-af62-49bd28499ecd",
   "metadata": {},
   "outputs": [],
   "source": [
    "#1) \n",
    "import pandas as pd"
   ]
  },
  {
   "cell_type": "code",
   "execution_count": 8,
   "id": "90070a78-9727-483a-a399-78f81a27f17e",
   "metadata": {},
   "outputs": [],
   "source": [
    "#2)\n",
    "col = pd.Series([\"Red\", \"Yellow\",\"Blue\"], index = [\"1\",\"2\",\"3\"])"
   ]
  },
  {
   "cell_type": "code",
   "execution_count": 7,
   "id": "fec53c1f-ccd9-42e8-83e2-d6fdda30f16c",
   "metadata": {},
   "outputs": [
    {
     "data": {
      "text/plain": [
       "1       Red\n",
       "2    Yellow\n",
       "3      Blue\n",
       "dtype: object"
      ]
     },
     "execution_count": 7,
     "metadata": {},
     "output_type": "execute_result"
    }
   ],
   "source": [
    "#3)\n",
    "col"
   ]
  },
  {
   "cell_type": "code",
   "execution_count": 18,
   "id": "cbce4dbe-0eac-45f3-84c3-d89af5c337e4",
   "metadata": {},
   "outputs": [
    {
     "data": {
      "text/plain": [
       "1    Toyota\n",
       "2       BMW\n",
       "3    Nissan\n",
       "dtype: object"
      ]
     },
     "execution_count": 18,
     "metadata": {},
     "output_type": "execute_result"
    }
   ],
   "source": [
    "#4\n",
    "car = pd.Series([\"Toyota\", \"BMW\",\"Nissan\"], index = [\"1\",\"2\",\"3\"])\n",
    "car"
   ]
  },
  {
   "cell_type": "code",
   "execution_count": 19,
   "id": "319c991c-06a2-46a0-80af-f13b6b056ef4",
   "metadata": {},
   "outputs": [],
   "source": [
    "#5\n",
    "car_info = pd.DataFrame({\"Car Brands\": car,\"Colours\": col})"
   ]
  },
  {
   "cell_type": "code",
   "execution_count": 20,
   "id": "57d06093-0a41-48e0-95fa-1c40c14e2930",
   "metadata": {},
   "outputs": [
    {
     "data": {
      "text/html": [
       "<div>\n",
       "<style scoped>\n",
       "    .dataframe tbody tr th:only-of-type {\n",
       "        vertical-align: middle;\n",
       "    }\n",
       "\n",
       "    .dataframe tbody tr th {\n",
       "        vertical-align: top;\n",
       "    }\n",
       "\n",
       "    .dataframe thead th {\n",
       "        text-align: right;\n",
       "    }\n",
       "</style>\n",
       "<table border=\"1\" class=\"dataframe\">\n",
       "  <thead>\n",
       "    <tr style=\"text-align: right;\">\n",
       "      <th></th>\n",
       "      <th>Car Brands</th>\n",
       "      <th>Colours</th>\n",
       "    </tr>\n",
       "  </thead>\n",
       "  <tbody>\n",
       "    <tr>\n",
       "      <th>1</th>\n",
       "      <td>Toyota</td>\n",
       "      <td>Red</td>\n",
       "    </tr>\n",
       "    <tr>\n",
       "      <th>2</th>\n",
       "      <td>BMW</td>\n",
       "      <td>Yellow</td>\n",
       "    </tr>\n",
       "    <tr>\n",
       "      <th>3</th>\n",
       "      <td>Nissan</td>\n",
       "      <td>Blue</td>\n",
       "    </tr>\n",
       "  </tbody>\n",
       "</table>\n",
       "</div>"
      ],
      "text/plain": [
       "  Car Brands Colours\n",
       "1     Toyota     Red\n",
       "2        BMW  Yellow\n",
       "3     Nissan    Blue"
      ]
     },
     "execution_count": 20,
     "metadata": {},
     "output_type": "execute_result"
    }
   ],
   "source": [
    "car_info"
   ]
  },
  {
   "cell_type": "code",
   "execution_count": null,
   "id": "27b13c19-8e1a-4436-9d12-1e4d351eb7e3",
   "metadata": {},
   "outputs": [],
   "source": []
  }
 ],
 "metadata": {
  "kernelspec": {
   "display_name": "Python 3 (ipykernel)",
   "language": "python",
   "name": "python3"
  },
  "language_info": {
   "codemirror_mode": {
    "name": "ipython",
    "version": 3
   },
   "file_extension": ".py",
   "mimetype": "text/x-python",
   "name": "python",
   "nbconvert_exporter": "python",
   "pygments_lexer": "ipython3",
   "version": "3.12.8"
  }
 },
 "nbformat": 4,
 "nbformat_minor": 5
}
